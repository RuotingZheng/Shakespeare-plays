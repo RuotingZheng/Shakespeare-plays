{
 "cells": [
  {
   "cell_type": "markdown",
   "metadata": {},
   "source": [
    "# Shakespeare Plays"
   ]
  },
  {
   "cell_type": "markdown",
   "metadata": {},
   "source": [
    "Shakespeare data classification\n",
    "\n",
    "Sum up:\n",
    "- ### Preprocessing\n",
    " Load data into data frame\n",
    " Filter required columns and remove missing values\n",
    "\n",
    "- ### Encoding data (mapping string to integer)\n",
    "\n",
    "- ### Split Training and Testing Data set.\n",
    "\n",
    "- ### Random Forest as classification model.\n",
    "\n",
    "Data Source:\n",
    "https://www.kaggle.com/kingburrito666/shakespeare-plays"
   ]
  },
  {
   "cell_type": "markdown",
   "metadata": {
    "collapsed": true
   },
   "source": [
    "###  Ruoting Zheng"
   ]
  },
  {
   "cell_type": "code",
   "execution_count": 205,
   "metadata": {},
   "outputs": [],
   "source": [
    "import numpy as np \n",
    "import pandas as pd \n",
    "import seaborn as sns\n",
    "import matplotlib.pyplot as plt"
   ]
  },
  {
   "cell_type": "code",
   "execution_count": 139,
   "metadata": {},
   "outputs": [],
   "source": [
    "from sklearn.model_selection import train_test_split"
   ]
  },
  {
   "cell_type": "code",
   "execution_count": 140,
   "metadata": {},
   "outputs": [],
   "source": [
    "from sklearn.ensemble import RandomForestClassifier"
   ]
  },
  {
   "cell_type": "markdown",
   "metadata": {
    "collapsed": true
   },
   "source": [
    "## 1. Load the data into structures"
   ]
  },
  {
   "cell_type": "code",
   "execution_count": 141,
   "metadata": {},
   "outputs": [],
   "source": [
    "df = pd.read_csv('../data/Shakespeare_data.csv')"
   ]
  },
  {
   "cell_type": "code",
   "execution_count": 142,
   "metadata": {},
   "outputs": [
    {
     "data": {
      "text/html": [
       "<div>\n",
       "<style scoped>\n",
       "    .dataframe tbody tr th:only-of-type {\n",
       "        vertical-align: middle;\n",
       "    }\n",
       "\n",
       "    .dataframe tbody tr th {\n",
       "        vertical-align: top;\n",
       "    }\n",
       "\n",
       "    .dataframe thead th {\n",
       "        text-align: right;\n",
       "    }\n",
       "</style>\n",
       "<table border=\"1\" class=\"dataframe\">\n",
       "  <thead>\n",
       "    <tr style=\"text-align: right;\">\n",
       "      <th></th>\n",
       "      <th>Dataline</th>\n",
       "      <th>Play</th>\n",
       "      <th>PlayerLinenumber</th>\n",
       "      <th>ActSceneLine</th>\n",
       "      <th>Player</th>\n",
       "      <th>PlayerLine</th>\n",
       "    </tr>\n",
       "  </thead>\n",
       "  <tbody>\n",
       "    <tr>\n",
       "      <th>0</th>\n",
       "      <td>1</td>\n",
       "      <td>Henry IV</td>\n",
       "      <td>NaN</td>\n",
       "      <td>NaN</td>\n",
       "      <td>NaN</td>\n",
       "      <td>ACT I</td>\n",
       "    </tr>\n",
       "    <tr>\n",
       "      <th>1</th>\n",
       "      <td>2</td>\n",
       "      <td>Henry IV</td>\n",
       "      <td>NaN</td>\n",
       "      <td>NaN</td>\n",
       "      <td>NaN</td>\n",
       "      <td>SCENE I. London. The palace.</td>\n",
       "    </tr>\n",
       "    <tr>\n",
       "      <th>2</th>\n",
       "      <td>3</td>\n",
       "      <td>Henry IV</td>\n",
       "      <td>NaN</td>\n",
       "      <td>NaN</td>\n",
       "      <td>NaN</td>\n",
       "      <td>Enter KING HENRY, LORD JOHN OF LANCASTER, the ...</td>\n",
       "    </tr>\n",
       "  </tbody>\n",
       "</table>\n",
       "</div>"
      ],
      "text/plain": [
       "   Dataline      Play  PlayerLinenumber ActSceneLine Player  \\\n",
       "0         1  Henry IV               NaN          NaN    NaN   \n",
       "1         2  Henry IV               NaN          NaN    NaN   \n",
       "2         3  Henry IV               NaN          NaN    NaN   \n",
       "\n",
       "                                          PlayerLine  \n",
       "0                                              ACT I  \n",
       "1                       SCENE I. London. The palace.  \n",
       "2  Enter KING HENRY, LORD JOHN OF LANCASTER, the ...  "
      ]
     },
     "execution_count": 142,
     "metadata": {},
     "output_type": "execute_result"
    }
   ],
   "source": [
    "df.head(3) #output some of the data"
   ]
  },
  {
   "cell_type": "markdown",
   "metadata": {
    "collapsed": true
   },
   "source": [
    "### 2. Data shape :the number of instances and number of features"
   ]
  },
  {
   "cell_type": "code",
   "execution_count": 143,
   "metadata": {},
   "outputs": [
    {
     "name": "stdout",
     "output_type": "stream",
     "text": [
      "<class 'pandas.core.frame.DataFrame'>\n",
      "RangeIndex: 111396 entries, 0 to 111395\n",
      "Data columns (total 6 columns):\n",
      "Dataline            111396 non-null int64\n",
      "Play                111396 non-null object\n",
      "PlayerLinenumber    111393 non-null float64\n",
      "ActSceneLine        105153 non-null object\n",
      "Player              111389 non-null object\n",
      "PlayerLine          111396 non-null object\n",
      "dtypes: float64(1), int64(1), object(4)\n",
      "memory usage: 5.1+ MB\n"
     ]
    }
   ],
   "source": [
    "df.info()"
   ]
  },
  {
   "cell_type": "markdown",
   "metadata": {},
   "source": [
    "### Show all the features"
   ]
  },
  {
   "cell_type": "code",
   "execution_count": 144,
   "metadata": {},
   "outputs": [
    {
     "name": "stdout",
     "output_type": "stream",
     "text": [
      "Categorical variables:\n",
      " ['Play' 'ActSceneLine' 'Player' 'PlayerLine']\n"
     ]
    }
   ],
   "source": [
    "print(\"Categorical variables:\\n %s\"% df.select_dtypes(include = ['object']).columns.values)\n",
    "x_cla = df.select_dtypes(include = ['object'])"
   ]
  },
  {
   "cell_type": "code",
   "execution_count": 145,
   "metadata": {},
   "outputs": [
    {
     "name": "stdout",
     "output_type": "stream",
     "text": [
      "Numerical features:\n",
      " ['Dataline' 'PlayerLinenumber']\n"
     ]
    },
    {
     "data": {
      "text/plain": [
       "(111396, 2)"
      ]
     },
     "execution_count": 145,
     "metadata": {},
     "output_type": "execute_result"
    }
   ],
   "source": [
    "print(\"Numerical features:\\n %s\"%df.select_dtypes(include = ['float64','int64']).columns.values)\n",
    "x_num = df.select_dtypes(include = ['float64','int64'])\n",
    "x_num.shape"
   ]
  },
  {
   "cell_type": "code",
   "execution_count": 146,
   "metadata": {},
   "outputs": [
    {
     "name": "stdout",
     "output_type": "stream",
     "text": [
      "There are 36 plays\n"
     ]
    }
   ],
   "source": [
    "print(\"There are \" + str(len(df['Play'].unique()))+ \" plays\")"
   ]
  },
  {
   "cell_type": "code",
   "execution_count": 147,
   "metadata": {},
   "outputs": [
    {
     "data": {
      "text/html": [
       "<div>\n",
       "<style scoped>\n",
       "    .dataframe tbody tr th:only-of-type {\n",
       "        vertical-align: middle;\n",
       "    }\n",
       "\n",
       "    .dataframe tbody tr th {\n",
       "        vertical-align: top;\n",
       "    }\n",
       "\n",
       "    .dataframe thead th {\n",
       "        text-align: right;\n",
       "    }\n",
       "</style>\n",
       "<table border=\"1\" class=\"dataframe\">\n",
       "  <thead>\n",
       "    <tr style=\"text-align: right;\">\n",
       "      <th></th>\n",
       "      <th>Dataline</th>\n",
       "      <th>PlayerLinenumber</th>\n",
       "    </tr>\n",
       "  </thead>\n",
       "  <tbody>\n",
       "    <tr>\n",
       "      <th>count</th>\n",
       "      <td>111396.000000</td>\n",
       "      <td>111393.000000</td>\n",
       "    </tr>\n",
       "    <tr>\n",
       "      <th>mean</th>\n",
       "      <td>55698.500000</td>\n",
       "      <td>36.885334</td>\n",
       "    </tr>\n",
       "    <tr>\n",
       "      <th>std</th>\n",
       "      <td>32157.399631</td>\n",
       "      <td>39.985840</td>\n",
       "    </tr>\n",
       "    <tr>\n",
       "      <th>min</th>\n",
       "      <td>1.000000</td>\n",
       "      <td>1.000000</td>\n",
       "    </tr>\n",
       "    <tr>\n",
       "      <th>25%</th>\n",
       "      <td>27849.750000</td>\n",
       "      <td>10.000000</td>\n",
       "    </tr>\n",
       "    <tr>\n",
       "      <th>50%</th>\n",
       "      <td>55698.500000</td>\n",
       "      <td>25.000000</td>\n",
       "    </tr>\n",
       "    <tr>\n",
       "      <th>75%</th>\n",
       "      <td>83547.250000</td>\n",
       "      <td>50.000000</td>\n",
       "    </tr>\n",
       "    <tr>\n",
       "      <th>max</th>\n",
       "      <td>111396.000000</td>\n",
       "      <td>405.000000</td>\n",
       "    </tr>\n",
       "  </tbody>\n",
       "</table>\n",
       "</div>"
      ],
      "text/plain": [
       "            Dataline  PlayerLinenumber\n",
       "count  111396.000000     111393.000000\n",
       "mean    55698.500000         36.885334\n",
       "std     32157.399631         39.985840\n",
       "min         1.000000          1.000000\n",
       "25%     27849.750000         10.000000\n",
       "50%     55698.500000         25.000000\n",
       "75%     83547.250000         50.000000\n",
       "max    111396.000000        405.000000"
      ]
     },
     "execution_count": 147,
     "metadata": {},
     "output_type": "execute_result"
    }
   ],
   "source": [
    "df.describe()"
   ]
  },
  {
   "cell_type": "markdown",
   "metadata": {},
   "source": [
    "#### Show: Target: Player"
   ]
  },
  {
   "cell_type": "code",
   "execution_count": 148,
   "metadata": {},
   "outputs": [
    {
     "name": "stdout",
     "output_type": "stream",
     "text": [
      "There are 935 players\n"
     ]
    }
   ],
   "source": [
    "df['Player'].replace(np.nan, 'Other',inplace = True)\n",
    "print(\"There are \" + str(len(df['Player'].unique()))+\" players\")"
   ]
  },
  {
   "cell_type": "code",
   "execution_count": 149,
   "metadata": {},
   "outputs": [
    {
     "data": {
      "text/plain": [
       "['Richard III',\n",
       " 'Henry VI Part 2',\n",
       " 'Coriolanus',\n",
       " 'Timon of Athens',\n",
       " 'Antony and Cleopatra',\n",
       " 'Henry VI Part 1',\n",
       " 'Julius Caesar',\n",
       " 'Pericles',\n",
       " 'Henry V',\n",
       " 'Henry VIII',\n",
       " 'Henry VI Part 3',\n",
       " 'Cymbeline',\n",
       " 'macbeth',\n",
       " 'Taming of the Shrew',\n",
       " 'Richard II',\n",
       " 'Romeo and Juliet',\n",
       " 'Henry IV',\n",
       " 'A Winters Tale',\n",
       " 'Hamlet',\n",
       " 'A Midsummer nights dream',\n",
       " 'King John',\n",
       " 'Troilus and Cressida',\n",
       " 'Othello',\n",
       " 'As you like it',\n",
       " 'Titus Andronicus',\n",
       " 'King Lear',\n",
       " 'Measure for measure',\n",
       " 'Alls well that ends well',\n",
       " 'Merry Wives of Windsor',\n",
       " 'Merchant of Venice',\n",
       " 'Much Ado about nothing',\n",
       " 'Loves Labours Lost',\n",
       " 'A Comedy of Errors',\n",
       " 'The Tempest',\n",
       " 'Twelfth Night',\n",
       " 'Two Gentlemen of Verona']"
      ]
     },
     "execution_count": 149,
     "metadata": {},
     "output_type": "execute_result"
    }
   ],
   "source": [
    "numberPlayers = df.groupby(['Play'])['Player'].nunique().sort_values(ascending= False).to_frame()\n",
    "numberPlayers.index.tolist()"
   ]
  },
  {
   "cell_type": "markdown",
   "metadata": {},
   "source": [
    "### Group by feature"
   ]
  },
  {
   "cell_type": "code",
   "execution_count": 150,
   "metadata": {},
   "outputs": [
    {
     "data": {
      "text/html": [
       "<div>\n",
       "<style scoped>\n",
       "    .dataframe tbody tr th:only-of-type {\n",
       "        vertical-align: middle;\n",
       "    }\n",
       "\n",
       "    .dataframe tbody tr th {\n",
       "        vertical-align: top;\n",
       "    }\n",
       "\n",
       "    .dataframe thead th {\n",
       "        text-align: right;\n",
       "    }\n",
       "</style>\n",
       "<table border=\"1\" class=\"dataframe\">\n",
       "  <thead>\n",
       "    <tr style=\"text-align: right;\">\n",
       "      <th></th>\n",
       "      <th>Player</th>\n",
       "    </tr>\n",
       "    <tr>\n",
       "      <th>Play</th>\n",
       "      <th></th>\n",
       "    </tr>\n",
       "  </thead>\n",
       "  <tbody>\n",
       "    <tr>\n",
       "      <th>Richard III</th>\n",
       "      <td>71</td>\n",
       "    </tr>\n",
       "    <tr>\n",
       "      <th>Henry VI Part 2</th>\n",
       "      <td>65</td>\n",
       "    </tr>\n",
       "  </tbody>\n",
       "</table>\n",
       "</div>"
      ],
      "text/plain": [
       "                 Player\n",
       "Play                   \n",
       "Richard III          71\n",
       "Henry VI Part 2      65"
      ]
     },
     "execution_count": 150,
     "metadata": {},
     "output_type": "execute_result"
    }
   ],
   "source": [
    "df.groupby(['Play'])['Player'].nunique().sort_values(ascending= False).to_frame().head(2)"
   ]
  },
  {
   "cell_type": "code",
   "execution_count": 151,
   "metadata": {},
   "outputs": [
    {
     "data": {
      "text/html": [
       "<div>\n",
       "<style scoped>\n",
       "    .dataframe tbody tr th:only-of-type {\n",
       "        vertical-align: middle;\n",
       "    }\n",
       "\n",
       "    .dataframe tbody tr th {\n",
       "        vertical-align: top;\n",
       "    }\n",
       "\n",
       "    .dataframe thead th {\n",
       "        text-align: right;\n",
       "    }\n",
       "</style>\n",
       "<table border=\"1\" class=\"dataframe\">\n",
       "  <thead>\n",
       "    <tr style=\"text-align: right;\">\n",
       "      <th></th>\n",
       "      <th>Dataline</th>\n",
       "      <th>Play</th>\n",
       "      <th>PlayerLinenumber</th>\n",
       "      <th>ActSceneLine</th>\n",
       "      <th>Player</th>\n",
       "      <th>PlayerLine</th>\n",
       "    </tr>\n",
       "  </thead>\n",
       "  <tbody>\n",
       "    <tr>\n",
       "      <th>81340</th>\n",
       "      <td>81341</td>\n",
       "      <td>Richard III</td>\n",
       "      <td>11.0</td>\n",
       "      <td>NaN</td>\n",
       "      <td>HENRY BOLINGBROKE</td>\n",
       "      <td>ACT I</td>\n",
       "    </tr>\n",
       "    <tr>\n",
       "      <th>81341</th>\n",
       "      <td>81342</td>\n",
       "      <td>Richard III</td>\n",
       "      <td>11.0</td>\n",
       "      <td>NaN</td>\n",
       "      <td>HENRY BOLINGBROKE</td>\n",
       "      <td>SCENE I. London. A street.</td>\n",
       "    </tr>\n",
       "  </tbody>\n",
       "</table>\n",
       "</div>"
      ],
      "text/plain": [
       "       Dataline         Play  PlayerLinenumber ActSceneLine  \\\n",
       "81340     81341  Richard III              11.0          NaN   \n",
       "81341     81342  Richard III              11.0          NaN   \n",
       "\n",
       "                  Player                  PlayerLine  \n",
       "81340  HENRY BOLINGBROKE                       ACT I  \n",
       "81341  HENRY BOLINGBROKE  SCENE I. London. A street.  "
      ]
     },
     "execution_count": 151,
     "metadata": {},
     "output_type": "execute_result"
    }
   ],
   "source": [
    "df.groupby(['Play']).get_group('Richard III').head(2)"
   ]
  },
  {
   "cell_type": "code",
   "execution_count": 152,
   "metadata": {},
   "outputs": [
    {
     "data": {
      "image/png": "[encoded data removed]",
      "text/plain": [
       "<Figure size 720x720 with 1 Axes>"
      ]
     },
     "metadata": {
      "needs_background": "light"
     },
     "output_type": "display_data"
    }
   ],
   "source": [
    "numberPlayers = df.groupby(['Play'])['Player'].nunique().sort_values(ascending= False).to_frame()\n",
    "numberPlayers['Play'] = numberPlayers.index.tolist()\n",
    "numberPlayers.columns = ['Num Players','Play']\n",
    "numberPlayers.index= np.arange(0,len(numberPlayers))\n",
    "#numberPlayers\n",
    "\n",
    "plt.figure(figsize=(10,10))\n",
    "ax = sns.barplot(x='Num Players',y='Play',data=numberPlayers)\n",
    "ax.set(xlabel='Number of Players', ylabel='Play Name')\n",
    "plt.show()"
   ]
  },
  {
   "cell_type": "code",
   "execution_count": 153,
   "metadata": {},
   "outputs": [
    {
     "data": {
      "text/plain": [
       "Play\n",
       "Hamlet                      4244\n",
       "Coriolanus                  3992\n",
       "Cymbeline                   3958\n",
       "Richard III                 3941\n",
       "Antony and Cleopatra        3862\n",
       "King Lear                   3766\n",
       "Othello                     3762\n",
       "Troilus and Cressida        3711\n",
       "A Winters Tale              3489\n",
       "Henry VIII                  3419\n",
       "Henry V                     3395\n",
       "Henry VI Part 2             3334\n",
       "Romeo and Juliet            3313\n",
       "Henry IV                    3205\n",
       "Henry VI Part 3             3138\n",
       "Alls well that ends well    3083\n",
       "Measure for measure         2998\n",
       "Loves Labours Lost          2986\n",
       "Henry VI Part 1             2983\n",
       "Richard II                  2937\n",
       "Merry Wives of Windsor      2831\n",
       "As you like it              2822\n",
       "Taming of the Shrew         2806\n",
       "Merchant of Venice          2802\n",
       "Julius Caesar               2771\n",
       "King John                   2766\n",
       "Titus Andronicus            2726\n",
       "Much Ado about nothing      2704\n",
       "Timon of Athens             2662\n",
       "Twelfth Night               2648\n",
       "Pericles                    2641\n",
       "macbeth                     2586\n",
       "The Tempest                 2403\n",
       "Two Gentlemen of Verona     2357\n",
       "A Midsummer nights dream    2300\n",
       "A Comedy of Errors          2055\n",
       "Name: PlayerLine, dtype: int64"
      ]
     },
     "execution_count": 153,
     "metadata": {},
     "output_type": "execute_result"
    }
   ],
   "source": [
    "df.groupby('Play').count().sort_values(by='PlayerLine',ascending=False)['PlayerLine']"
   ]
  },
  {
   "cell_type": "code",
   "execution_count": 154,
   "metadata": {},
   "outputs": [
    {
     "data": {
      "text/plain": [
       "Play                      Player            \n",
       "A Comedy of Errors        ADRIANA               284\n",
       "                          AEGEON                150\n",
       "                          AEMELIA                75\n",
       "                          ANGELO                 99\n",
       "                          ANTIPHOLUS              6\n",
       "                          BALTHAZAR              31\n",
       "                          Courtezan              43\n",
       "                          DROMIO OF EPHESUS     191\n",
       "                          DROMIO OF SYRACUSE    323\n",
       "                          DUKE SOLINUS           97\n",
       "                          First Merchant         19\n",
       "                          Gaoler                  1\n",
       "                          LUCE                   11\n",
       "                          LUCIANA               118\n",
       "                          OCTAVIUS CAESAR         3\n",
       "                          OF EPHESUS            221\n",
       "                          OF SYRACUSE           292\n",
       "                          Officer                17\n",
       "                          PINCH                  17\n",
       "                          Second Merchant        41\n",
       "                          Servant                16\n",
       "A Midsummer nights dream  ALL                     2\n",
       "                          BOTTOM                220\n",
       "                          COBWEB                  4\n",
       "                          DEMETRIUS             144\n",
       "                          EGEUS                  42\n",
       "                          FLUTE                  26\n",
       "                          FORD                    3\n",
       "                          Fairy                  33\n",
       "                          HELENA                237\n",
       "                                               ... \n",
       "macbeth                   First Murderer         35\n",
       "                          First Witch            68\n",
       "                          Gentlewoman            27\n",
       "                          HECATE                 43\n",
       "                          LADY MACBETH          279\n",
       "                          LADY MACDUFF           43\n",
       "                          LENNOX                 79\n",
       "                          Lord                   25\n",
       "                          Lords                   4\n",
       "                          MACBETH               783\n",
       "                          MACDUFF               193\n",
       "                          MALCOLM               222\n",
       "                          MENTEITH               12\n",
       "                          Messenger              24\n",
       "                          Old Man                15\n",
       "                          Porter                 53\n",
       "                          ROSS                  137\n",
       "                          SEYTON                  6\n",
       "                          SIWARD                 37\n",
       "                          Second Apparition       5\n",
       "                          Second Murderer        16\n",
       "                          Second Witch           29\n",
       "                          Sergeant               35\n",
       "                          Servant                 6\n",
       "                          Soldiers                1\n",
       "                          Son                    24\n",
       "                          Third Apparition        6\n",
       "                          Third Murderer          8\n",
       "                          Third Witch            27\n",
       "                          YOUNG SIWARD            8\n",
       "Name: PlayerLine, Length: 1328, dtype: int64"
      ]
     },
     "execution_count": 154,
     "metadata": {},
     "output_type": "execute_result"
    }
   ],
   "source": [
    "df.groupby(['Play','Player']).count()['PlayerLine']"
   ]
  },
  {
   "cell_type": "markdown",
   "metadata": {},
   "source": [
    "### Delete the empty line \n",
    "#### (like \"SCENE I. London. The palace.\", \"someone enter\")"
   ]
  },
  {
   "cell_type": "code",
   "execution_count": 155,
   "metadata": {},
   "outputs": [
    {
     "name": "stdout",
     "output_type": "stream",
     "text": [
      "111396\n",
      "105153\n"
     ]
    }
   ],
   "source": [
    "print(len(df))\n",
    "df = df.dropna(how='any')\n",
    "print(len(df))"
   ]
  },
  {
   "cell_type": "code",
   "execution_count": 156,
   "metadata": {},
   "outputs": [
    {
     "data": {
      "text/html": [
       "<div>\n",
       "<style scoped>\n",
       "    .dataframe tbody tr th:only-of-type {\n",
       "        vertical-align: middle;\n",
       "    }\n",
       "\n",
       "    .dataframe tbody tr th {\n",
       "        vertical-align: top;\n",
       "    }\n",
       "\n",
       "    .dataframe thead th {\n",
       "        text-align: right;\n",
       "    }\n",
       "</style>\n",
       "<table border=\"1\" class=\"dataframe\">\n",
       "  <thead>\n",
       "    <tr style=\"text-align: right;\">\n",
       "      <th></th>\n",
       "      <th>Dataline</th>\n",
       "      <th>Play</th>\n",
       "      <th>PlayerLinenumber</th>\n",
       "      <th>ActSceneLine</th>\n",
       "      <th>Player</th>\n",
       "      <th>PlayerLine</th>\n",
       "    </tr>\n",
       "  </thead>\n",
       "  <tbody>\n",
       "    <tr>\n",
       "      <th>3</th>\n",
       "      <td>4</td>\n",
       "      <td>Henry IV</td>\n",
       "      <td>1.0</td>\n",
       "      <td>1.1.1</td>\n",
       "      <td>KING HENRY IV</td>\n",
       "      <td>So shaken as we are, so wan with care,</td>\n",
       "    </tr>\n",
       "    <tr>\n",
       "      <th>4</th>\n",
       "      <td>5</td>\n",
       "      <td>Henry IV</td>\n",
       "      <td>1.0</td>\n",
       "      <td>1.1.2</td>\n",
       "      <td>KING HENRY IV</td>\n",
       "      <td>Find we a time for frighted peace to pant,</td>\n",
       "    </tr>\n",
       "    <tr>\n",
       "      <th>5</th>\n",
       "      <td>6</td>\n",
       "      <td>Henry IV</td>\n",
       "      <td>1.0</td>\n",
       "      <td>1.1.3</td>\n",
       "      <td>KING HENRY IV</td>\n",
       "      <td>And breathe short-winded accents of new broils</td>\n",
       "    </tr>\n",
       "    <tr>\n",
       "      <th>6</th>\n",
       "      <td>7</td>\n",
       "      <td>Henry IV</td>\n",
       "      <td>1.0</td>\n",
       "      <td>1.1.4</td>\n",
       "      <td>KING HENRY IV</td>\n",
       "      <td>To be commenced in strands afar remote.</td>\n",
       "    </tr>\n",
       "    <tr>\n",
       "      <th>7</th>\n",
       "      <td>8</td>\n",
       "      <td>Henry IV</td>\n",
       "      <td>1.0</td>\n",
       "      <td>1.1.5</td>\n",
       "      <td>KING HENRY IV</td>\n",
       "      <td>No more the thirsty entrance of this soil</td>\n",
       "    </tr>\n",
       "  </tbody>\n",
       "</table>\n",
       "</div>"
      ],
      "text/plain": [
       "   Dataline      Play  PlayerLinenumber ActSceneLine         Player  \\\n",
       "3         4  Henry IV               1.0        1.1.1  KING HENRY IV   \n",
       "4         5  Henry IV               1.0        1.1.2  KING HENRY IV   \n",
       "5         6  Henry IV               1.0        1.1.3  KING HENRY IV   \n",
       "6         7  Henry IV               1.0        1.1.4  KING HENRY IV   \n",
       "7         8  Henry IV               1.0        1.1.5  KING HENRY IV   \n",
       "\n",
       "                                       PlayerLine  \n",
       "3          So shaken as we are, so wan with care,  \n",
       "4      Find we a time for frighted peace to pant,  \n",
       "5  And breathe short-winded accents of new broils  \n",
       "6         To be commenced in strands afar remote.  \n",
       "7       No more the thirsty entrance of this soil  "
      ]
     },
     "execution_count": 156,
     "metadata": {},
     "output_type": "execute_result"
    }
   ],
   "source": [
    "df.head()"
   ]
  },
  {
   "cell_type": "markdown",
   "metadata": {
    "collapsed": true
   },
   "source": [
    "## Applying RandomForestClassifier"
   ]
  },
  {
   "cell_type": "markdown",
   "metadata": {},
   "source": [
    "### Processing before applying"
   ]
  },
  {
   "cell_type": "markdown",
   "metadata": {},
   "source": [
    "#### Processing data, Encoding the Play name"
   ]
  },
  {
   "cell_type": "code",
   "execution_count": 157,
   "metadata": {},
   "outputs": [],
   "source": [
    "data = df.loc[:,['Play','PlayerLinenumber']]\n",
    "#df.drop(['Dataline','ActSceneLine','PlayerLine'],axis=1,inplace=True)"
   ]
  },
  {
   "cell_type": "code",
   "execution_count": 158,
   "metadata": {},
   "outputs": [
    {
     "data": {
      "text/plain": [
       "{'A Comedy of Errors': 0,\n",
       " 'A Midsummer nights dream': 1,\n",
       " 'A Winters Tale': 2,\n",
       " 'Alls well that ends well': 3,\n",
       " 'Antony and Cleopatra': 4,\n",
       " 'As you like it': 5,\n",
       " 'Coriolanus': 6,\n",
       " 'Cymbeline': 7,\n",
       " 'Hamlet': 8,\n",
       " 'Henry IV': 9,\n",
       " 'Henry V': 10,\n",
       " 'Henry VI Part 1': 11,\n",
       " 'Henry VI Part 2': 12,\n",
       " 'Henry VI Part 3': 13,\n",
       " 'Henry VIII': 14,\n",
       " 'Julius Caesar': 15,\n",
       " 'King John': 16,\n",
       " 'King Lear': 17,\n",
       " 'Loves Labours Lost': 18,\n",
       " 'Measure for measure': 19,\n",
       " 'Merchant of Venice': 20,\n",
       " 'Merry Wives of Windsor': 21,\n",
       " 'Much Ado about nothing': 22,\n",
       " 'Othello': 23,\n",
       " 'Pericles': 24,\n",
       " 'Richard II': 25,\n",
       " 'Richard III': 26,\n",
       " 'Romeo and Juliet': 27,\n",
       " 'Taming of the Shrew': 28,\n",
       " 'The Tempest': 29,\n",
       " 'Timon of Athens': 30,\n",
       " 'Titus Andronicus': 31,\n",
       " 'Troilus and Cressida': 32,\n",
       " 'Twelfth Night': 33,\n",
       " 'Two Gentlemen of Verona': 34,\n",
       " 'macbeth': 35}"
      ]
     },
     "execution_count": 158,
     "metadata": {},
     "output_type": "execute_result"
    }
   ],
   "source": [
    "play_mapping = {label:idx for idx, label in enumerate(np.unique(data[\"Play\"]))}\n",
    "play_mapping"
   ]
  },
  {
   "cell_type": "code",
   "execution_count": 159,
   "metadata": {},
   "outputs": [
    {
     "data": {
      "text/html": [
       "<div>\n",
       "<style scoped>\n",
       "    .dataframe tbody tr th:only-of-type {\n",
       "        vertical-align: middle;\n",
       "    }\n",
       "\n",
       "    .dataframe tbody tr th {\n",
       "        vertical-align: top;\n",
       "    }\n",
       "\n",
       "    .dataframe thead th {\n",
       "        text-align: right;\n",
       "    }\n",
       "</style>\n",
       "<table border=\"1\" class=\"dataframe\">\n",
       "  <thead>\n",
       "    <tr style=\"text-align: right;\">\n",
       "      <th></th>\n",
       "      <th>Play</th>\n",
       "      <th>PlayerLinenumber</th>\n",
       "    </tr>\n",
       "  </thead>\n",
       "  <tbody>\n",
       "    <tr>\n",
       "      <th>3</th>\n",
       "      <td>9</td>\n",
       "      <td>1.0</td>\n",
       "    </tr>\n",
       "    <tr>\n",
       "      <th>4</th>\n",
       "      <td>9</td>\n",
       "      <td>1.0</td>\n",
       "    </tr>\n",
       "    <tr>\n",
       "      <th>5</th>\n",
       "      <td>9</td>\n",
       "      <td>1.0</td>\n",
       "    </tr>\n",
       "    <tr>\n",
       "      <th>6</th>\n",
       "      <td>9</td>\n",
       "      <td>1.0</td>\n",
       "    </tr>\n",
       "    <tr>\n",
       "      <th>7</th>\n",
       "      <td>9</td>\n",
       "      <td>1.0</td>\n",
       "    </tr>\n",
       "  </tbody>\n",
       "</table>\n",
       "</div>"
      ],
      "text/plain": [
       "   Play  PlayerLinenumber\n",
       "3     9               1.0\n",
       "4     9               1.0\n",
       "5     9               1.0\n",
       "6     9               1.0\n",
       "7     9               1.0"
      ]
     },
     "execution_count": 159,
     "metadata": {},
     "output_type": "execute_result"
    }
   ],
   "source": [
    "data[\"Play\"] = data[\"Play\"].map(play_mapping)\n",
    "data.head()"
   ]
  },
  {
   "cell_type": "markdown",
   "metadata": {},
   "source": [
    "#### Get  target and processing"
   ]
  },
  {
   "cell_type": "code",
   "execution_count": 175,
   "metadata": {},
   "outputs": [],
   "source": [
    "target = df[\"Player\"]"
   ]
  },
  {
   "cell_type": "code",
   "execution_count": 176,
   "metadata": {},
   "outputs": [],
   "source": [
    "target_mapping = {label:idx for idx, label in enumerate(np.unique(target))}\n",
    "target=target.map(target_mapping)"
   ]
  },
  {
   "cell_type": "code",
   "execution_count": 177,
   "metadata": {},
   "outputs": [
    {
     "name": "stdout",
     "output_type": "stream",
     "text": [
      "105153 105153\n"
     ]
    }
   ],
   "source": [
    "print(len(data),len(target))"
   ]
  },
  {
   "cell_type": "markdown",
   "metadata": {},
   "source": [
    "Get inverse mapping"
   ]
  },
  {
   "cell_type": "code",
   "execution_count": 178,
   "metadata": {},
   "outputs": [],
   "source": [
    "inv_target_mapping = {v:k for k,v in target_mapping.items()}"
   ]
  },
  {
   "cell_type": "code",
   "execution_count": 179,
   "metadata": {},
   "outputs": [],
   "source": [
    "inv_play_mapping = {v:k for k,v in play_mapping.items()}"
   ]
  },
  {
   "cell_type": "code",
   "execution_count": 180,
   "metadata": {},
   "outputs": [],
   "source": [
    "# target = target.map(inv_target_mapping)"
   ]
  },
  {
   "cell_type": "code",
   "execution_count": 181,
   "metadata": {},
   "outputs": [
    {
     "data": {
      "text/plain": [
       "3    457\n",
       "4    457\n",
       "5    457\n",
       "6    457\n",
       "7    457\n",
       "Name: Player, dtype: int64"
      ]
     },
     "execution_count": 181,
     "metadata": {},
     "output_type": "execute_result"
    }
   ],
   "source": [
    "target.head()"
   ]
  },
  {
   "cell_type": "markdown",
   "metadata": {},
   "source": [
    "### Try Classification model"
   ]
  },
  {
   "cell_type": "markdown",
   "metadata": {},
   "source": [
    "First, we try make score ratio as goal. We train on 80% of the data,and using the rest 20% as testing."
   ]
  },
  {
   "cell_type": "code",
   "execution_count": 182,
   "metadata": {},
   "outputs": [],
   "source": [
    "perc_test = 0.20\n",
    "X_train, X_test, y_train, y_test = train_test_split(data, target, test_size=perc_test)"
   ]
  },
  {
   "cell_type": "code",
   "execution_count": 183,
   "metadata": {},
   "outputs": [],
   "source": [
    "clf = RandomForestClassifier(n_estimators=10)"
   ]
  },
  {
   "cell_type": "code",
   "execution_count": 184,
   "metadata": {},
   "outputs": [],
   "source": [
    "clf = clf.fit(X_train, y_train)"
   ]
  },
  {
   "cell_type": "code",
   "execution_count": 185,
   "metadata": {},
   "outputs": [
    {
     "data": {
      "text/plain": [
       "RandomForestClassifier(bootstrap=True, class_weight=None, criterion='gini',\n",
       "            max_depth=None, max_features='auto', max_leaf_nodes=None,\n",
       "            min_impurity_decrease=0.0, min_impurity_split=None,\n",
       "            min_samples_leaf=1, min_samples_split=2,\n",
       "            min_weight_fraction_leaf=0.0, n_estimators=10, n_jobs=1,\n",
       "            oob_score=False, random_state=None, verbose=0,\n",
       "            warm_start=False)"
      ]
     },
     "execution_count": 185,
     "metadata": {},
     "output_type": "execute_result"
    }
   ],
   "source": [
    "clf"
   ]
  },
  {
   "cell_type": "code",
   "execution_count": 201,
   "metadata": {},
   "outputs": [],
   "source": [
    "prediction = clf.predict(X_test)"
   ]
  },
  {
   "cell_type": "code",
   "execution_count": 197,
   "metadata": {},
   "outputs": [],
   "source": [
    "from sklearn.metrics import accuracy_score"
   ]
  },
  {
   "cell_type": "code",
   "execution_count": 202,
   "metadata": {},
   "outputs": [
    {
     "data": {
      "text/plain": [
       "array([514, 395, 667, ..., 409, 842, 932], dtype=int64)"
      ]
     },
     "execution_count": 202,
     "metadata": {},
     "output_type": "execute_result"
    }
   ],
   "source": [
    "prediction"
   ]
  },
  {
   "cell_type": "markdown",
   "metadata": {},
   "source": [
    "### Accuracy of Prediction"
   ]
  },
  {
   "cell_type": "code",
   "execution_count": 203,
   "metadata": {},
   "outputs": [
    {
     "data": {
      "text/plain": [
       "0.40582948980077027"
      ]
     },
     "execution_count": 203,
     "metadata": {},
     "output_type": "execute_result"
    }
   ],
   "source": [
    "accuracy_score(y_test, prediction)"
   ]
  },
  {
   "cell_type": "code",
   "execution_count": 195,
   "metadata": {},
   "outputs": [],
   "source": [
    "prediction = pd.Series(prediction.tolist())\n",
    "prediction = prediction.map(inv_target_mapping)"
   ]
  },
  {
   "cell_type": "markdown",
   "metadata": {},
   "source": [
    "Using Random Forest, we have an accuracy of 40%."
   ]
  },
  {
   "cell_type": "code",
   "execution_count": 196,
   "metadata": {},
   "outputs": [
    {
     "data": {
      "text/plain": [
       "0                  LUCIANA\n",
       "1                   HAMLET\n",
       "2                 PROSPERO\n",
       "3                 FALSTAFF\n",
       "4              Second Lord\n",
       "5                KATHARINE\n",
       "6                   BIANCA\n",
       "7           QUEEN MARGARET\n",
       "8                  CAMILLO\n",
       "9             KING HENRY V\n",
       "10              GLOUCESTER\n",
       "11                 ULYSSES\n",
       "12                 LEONTES\n",
       "13                  TALBOT\n",
       "14                    Fool\n",
       "15                 HOTSPUR\n",
       "16          SIR HUGH EVANS\n",
       "17                 ANTONIO\n",
       "18                   JULIA\n",
       "19               KING LEAR\n",
       "20                 LEONATO\n",
       "21                   GOWER\n",
       "22                    IAGO\n",
       "23                 LEONTES\n",
       "24             KING PHILIP\n",
       "25              CORIOLANUS\n",
       "26         CARDINAL WOLSEY\n",
       "27                   BIRON\n",
       "28        TITUS ANDRONICUS\n",
       "29                  IMOGEN\n",
       "               ...        \n",
       "21001               TALBOT\n",
       "21002              SHYLOCK\n",
       "21003        MISTRESS PAGE\n",
       "21004                MENAS\n",
       "21005              ULYSSES\n",
       "21006             Shepherd\n",
       "21007              MACBETH\n",
       "21008             BASSANIO\n",
       "21009               BRUTUS\n",
       "21010              OPHELIA\n",
       "21011             MENENIUS\n",
       "21012              OTHELLO\n",
       "21013                BIRON\n",
       "21014                 PAGE\n",
       "21015                ROMEO\n",
       "21016               PORTIA\n",
       "21017             BASSANIO\n",
       "21018             MENENIUS\n",
       "21019    CARDINAL PANDULPH\n",
       "21020            VALENTINE\n",
       "21021     TITUS ANDRONICUS\n",
       "21022             AUFIDIUS\n",
       "21023               CLOTEN\n",
       "21024             Surveyor\n",
       "21025           GLOUCESTER\n",
       "21026                 KING\n",
       "21027         DUKE OF YORK\n",
       "21028                 HERO\n",
       "21029              THESEUS\n",
       "21030     of King Henry VI\n",
       "Length: 21031, dtype: object"
      ]
     },
     "execution_count": 196,
     "metadata": {},
     "output_type": "execute_result"
    }
   ],
   "source": [
    "prediction"
   ]
  },
  {
   "cell_type": "markdown",
   "metadata": {
    "collapsed": true
   },
   "source": [
    "## Try out: Bag of words"
   ]
  },
  {
   "cell_type": "markdown",
   "metadata": {},
   "source": [
    "We may obtain a better result if combine the playerline as feature. My idea is to try out the bag of words, calculate the word frequency for each player. Not implement yet."
   ]
  },
  {
   "cell_type": "code",
   "execution_count": null,
   "metadata": {},
   "outputs": [],
   "source": [
    "from sklearn.feature_extraction.text import TfidfVectorizer"
   ]
  },
  {
   "cell_type": "code",
   "execution_count": null,
   "metadata": {},
   "outputs": [],
   "source": [
    "corpus = [\n",
    "'This is the first document.',\n",
    "'This document is the second document.',\n",
    "'And this is the third one.',\n",
    "'Is this the first document?',\n",
    "]"
   ]
  },
  {
   "cell_type": "code",
   "execution_count": null,
   "metadata": {},
   "outputs": [],
   "source": [
    "vectorizer = TfidfVectorizer()\n",
    "X = vectorizer.fit_transform(corpus)"
   ]
  },
  {
   "cell_type": "code",
   "execution_count": null,
   "metadata": {},
   "outputs": [],
   "source": [
    "print(vectorizer.get_feature_names())"
   ]
  },
  {
   "cell_type": "code",
   "execution_count": null,
   "metadata": {},
   "outputs": [],
   "source": [
    "print(X.shape)"
   ]
  },
  {
   "cell_type": "code",
   "execution_count": null,
   "metadata": {},
   "outputs": [],
   "source": []
  }
 ],
 "metadata": {
  "kernelspec": {
   "display_name": "Python 3",
   "language": "python",
   "name": "python3"
  },
  "language_info": {
   "codemirror_mode": {
    "name": "ipython",
    "version": 3
   },
   "file_extension": ".py",
   "mimetype": "text/x-python",
   "name": "python",
   "nbconvert_exporter": "python",
   "pygments_lexer": "ipython3",
   "version": "3.7.0"
  }
 },
 "nbformat": 4,
 "nbformat_minor": 1
}
